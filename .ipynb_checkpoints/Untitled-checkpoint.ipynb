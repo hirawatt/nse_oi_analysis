{
 "cells": [
  {
   "cell_type": "code",
   "execution_count": 4,
   "id": "unauthorized-vinyl",
   "metadata": {},
   "outputs": [],
   "source": [
    "import requests\n",
    "import json\n",
    "\n",
    "url = \"https://www.nseindia.com/api/option-chain-equities?symbol=RELIANCE\"\n",
    "\n",
    "def fetch_oi():\n",
    "    r = requests.get(url).json()\n",
    "    print(r)\n",
    "    with open(\"oidata.json\", \"w\") as files:\n",
    "        files.write(json.dumps(r, indent=4, sort_keys=True))\n",
    "\n",
    "def main():\n",
    "    fetch_oi()    \n"
   ]
  },
  {
   "cell_type": "code",
   "execution_count": null,
   "id": "official-suite",
   "metadata": {},
   "outputs": [],
   "source": [
    "if __name__ == '__main__':\n",
    "    main()"
   ]
  }
 ],
 "metadata": {
  "kernelspec": {
   "display_name": "Python 3",
   "language": "python",
   "name": "python3"
  },
  "language_info": {
   "codemirror_mode": {
    "name": "ipython",
    "version": 3
   },
   "file_extension": ".py",
   "mimetype": "text/x-python",
   "name": "python",
   "nbconvert_exporter": "python",
   "pygments_lexer": "ipython3",
   "version": "3.8.5"
  }
 },
 "nbformat": 4,
 "nbformat_minor": 5
}
